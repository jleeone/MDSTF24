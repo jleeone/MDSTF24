{
  "nbformat": 4,
  "nbformat_minor": 0,
  "metadata": {
    "colab": {
      "provenance": []
    },
    "kernelspec": {
      "name": "python3",
      "display_name": "Python 3"
    },
    "language_info": {
      "name": "python"
    }
  },
  "cells": [
    {
      "cell_type": "markdown",
      "source": [
        "#**Importing Libraries**\n"
      ],
      "metadata": {
        "id": "aMGsEUWF64GI"
      }
    },
    {
      "cell_type": "markdown",
      "source": [
        "\n",
        "**Import the json, pandas, numpy and spotipy libraries**"
      ],
      "metadata": {
        "id": "ELnGuXQeFUCu"
      }
    },
    {
      "cell_type": "code",
      "source": [],
      "metadata": {
        "id": "aL4rUcafymaN"
      },
      "execution_count": null,
      "outputs": []
    },
    {
      "cell_type": "markdown",
      "source": [
        "#**Variables, numbers, math and strings**"
      ],
      "metadata": {
        "id": "vCVcwAbDHu4l"
      }
    },
    {
      "cell_type": "markdown",
      "source": [
        "\n",
        "\n",
        "\n",
        "\n",
        "```\n",
        "flourBrandA = \"king arthur all purpose flour\"\n",
        "flourBrandB = \"kroger all purpose flour\"\n",
        "flourAmountNeeded = 0.75\n",
        "\n",
        "print(flourBrandA, flourBrandB)\n",
        "print(\"flour left:\")\n",
        "print(1-flourAmountNeeded)\n",
        "\n",
        "```\n"
      ],
      "metadata": {
        "id": "jRqIj5o-H2_I"
      }
    },
    {
      "cell_type": "markdown",
      "source": [
        "What is the output of the code above?"
      ],
      "metadata": {
        "id": "FqGGojR-HL4m"
      }
    },
    {
      "cell_type": "markdown",
      "source": [
        "Answer:"
      ],
      "metadata": {
        "id": "QUzVxtvWHPjZ"
      }
    },
    {
      "cell_type": "markdown",
      "source": [
        "#**Functions**\n",
        "\n"
      ],
      "metadata": {
        "id": "Fm915uqsLqPO"
      }
    },
    {
      "cell_type": "markdown",
      "source": [
        "What will be the output of the cell below?"
      ],
      "metadata": {
        "id": "0tzQZ7APFuog"
      }
    },
    {
      "cell_type": "code",
      "source": [
        "def madlibs(adj, noun, verb):\n",
        "  print(noun+verb+adj)\n",
        "  print(\"That is very cool\")\n",
        "\n",
        "madlibs(\"fast\",\"bananas\", \"runs\")\n"
      ],
      "metadata": {
        "id": "k3qWFNMSQIIJ"
      },
      "execution_count": null,
      "outputs": []
    },
    {
      "cell_type": "markdown",
      "source": [
        "Answer:"
      ],
      "metadata": {
        "id": "eQxvo8WDF9cp"
      }
    },
    {
      "cell_type": "markdown",
      "source": [
        "\n",
        "\n",
        "```\n",
        "def subtraction(number1, number2)\n",
        "  return number1-number2\n",
        "\n",
        "x = subtraction(2, 4)\n",
        "```\n",
        "\n",
        "What is the value of x?\n",
        "\n",
        "\n"
      ],
      "metadata": {
        "id": "ZafX5NtdGjJy"
      }
    },
    {
      "cell_type": "markdown",
      "source": [
        "Answer:"
      ],
      "metadata": {
        "id": "E1CIPvj2G7pR"
      }
    },
    {
      "cell_type": "markdown",
      "source": [
        "#**Lists, Dictionaries, Sets, Indexing**\n",
        "\n",
        "\n",
        "What is the value of aList[3]?"
      ],
      "metadata": {
        "id": "mnAVmpYoJXm2"
      }
    },
    {
      "cell_type": "code",
      "source": [
        "aList = [\"mdst\"]\n",
        "aList.append(\"sundays\")\n",
        "aList.append(\"mondays\")\n",
        "aList.append(\"tuesdays\")\n",
        "aList.append(\"wednesdays\")\n",
        "aList[3] = \"wednesdays\""
      ],
      "metadata": {
        "id": "7FYPE2YCIWUi"
      },
      "execution_count": null,
      "outputs": []
    },
    {
      "cell_type": "markdown",
      "source": [
        "Answer:"
      ],
      "metadata": {
        "id": "ZDmXxPPJIXVK"
      }
    },
    {
      "cell_type": "markdown",
      "source": [
        "#**References**"
      ],
      "metadata": {
        "id": "JqoBQjw9L6hv"
      }
    },
    {
      "cell_type": "markdown",
      "source": [
        "What do you think the output is in the code below?\n",
        "\n",
        "\n",
        "```\n",
        "x=[3,4]\n",
        "y=[1,2]\n",
        "x=y\n",
        "y[1] = 5\n",
        "print(x)\n",
        "```\n",
        "\n"
      ],
      "metadata": {
        "id": "QoUJMdPqKIv9"
      }
    },
    {
      "cell_type": "markdown",
      "source": [
        "Answer:\n",
        "\n",
        "**Once you have your answer** go to pythontutor.com, paste the code, and see how references influence the output"
      ],
      "metadata": {
        "id": "BKTykb0HKnmY"
      }
    },
    {
      "cell_type": "markdown",
      "source": [
        "# **Keywords**\n",
        "What happens if you try to create a variable with the name of a keyword?"
      ],
      "metadata": {
        "id": "7bt6A0e-5k6L"
      }
    },
    {
      "cell_type": "code",
      "source": [],
      "metadata": {
        "id": "-zM0g8Md8F9j"
      },
      "execution_count": null,
      "outputs": []
    },
    {
      "cell_type": "markdown",
      "source": [
        "# **If else if else**\n",
        "\n",
        "You are given a variable *age* with some unknown value. Use if statements to print if a person can drive given some unknown age (aka use the age variable in your code)\n"
      ],
      "metadata": {
        "id": "REHTyAbD5YmV"
      }
    },
    {
      "cell_type": "code",
      "source": [],
      "metadata": {
        "id": "xSmw1V_s8lyU"
      },
      "execution_count": null,
      "outputs": []
    },
    {
      "cell_type": "markdown",
      "source": [
        "#**Loops**"
      ],
      "metadata": {
        "id": "LzuQZTVlMLKU"
      }
    },
    {
      "cell_type": "markdown",
      "source": [
        "Write a for loop that prints a statement \"____ is a type of fruit\" where ____ is an element in the list defined below. Code a solution 3 lines or less\n",
        "\n",
        "\n",
        "\n",
        "```\n",
        "fruits = [\"kiwis\", \"star fruit\", \"raspberries\", \"watermelon\", \"pear\", \"apples\", \"oranges\"]\n",
        "```\n",
        "\n"
      ],
      "metadata": {
        "id": "GfRW3k093Lyh"
      }
    },
    {
      "cell_type": "markdown",
      "source": [
        "Write a while loop that increments variable i with an initial value of 9 by 1 each iteration of the loop. Have the loop break when the value of variable i reaches 16. Print a statement that alerts you that i has reached 16. hint: in the while loop, should the print statment be used before the keyword \"break\" or after? What happens when you print before vs after?"
      ],
      "metadata": {
        "id": "1c_emQJq4hSZ"
      }
    },
    {
      "cell_type": "code",
      "source": [],
      "metadata": {
        "id": "MNYSZEeIQGWB"
      },
      "execution_count": null,
      "outputs": []
    },
    {
      "cell_type": "markdown",
      "source": [
        "#**Using Libaries and reading documentation practice**"
      ],
      "metadata": {
        "id": "wKJq-0ixM0t3"
      }
    },
    {
      "cell_type": "markdown",
      "source": [
        "Look up functions in the json library that you can use to read and write to a .json file. What arguments are required for the functions? Are there optional arguments?"
      ],
      "metadata": {
        "id": "VBqXHun09DjF"
      }
    },
    {
      "cell_type": "markdown",
      "source": [
        "Your solution:"
      ],
      "metadata": {
        "id": "P8vi_q8c9VIP"
      }
    },
    {
      "cell_type": "markdown",
      "source": [
        "#**Reading and writing to files**\n"
      ],
      "metadata": {
        "id": "wfKile7wMASA"
      }
    },
    {
      "cell_type": "markdown",
      "source": [
        "Download the file workSessionOne.json from github.com/and read it into a pandas dataframe named dfDemo"
      ],
      "metadata": {
        "id": "0baa_rdtsJ2l"
      }
    },
    {
      "cell_type": "code",
      "source": [],
      "metadata": {
        "id": "IPV1hC66QEvv"
      },
      "execution_count": null,
      "outputs": []
    },
    {
      "cell_type": "markdown",
      "source": [
        "#**Commenting**\n",
        "\n",
        "Sometimes you want to write things for yourself or other people reading your code, such as explainations, or reminders to continue writing code for a dunction\n",
        "\n",
        "You can leave a note for youself in two ways:\n",
        "\n",
        "- #: used for when the note is short (less than 80 characters)\n",
        "- \"\"\"some note\"\"\" or three double quotes: used for when the note will be multiple lines long\n",
        "**Write one note using # and another using the triple quotes**\n",
        "\n",
        "(if you run the cell with just the note, the cell should not have any output)"
      ],
      "metadata": {
        "id": "Tvp7Xk0nOqlO"
      }
    },
    {
      "cell_type": "code",
      "source": [],
      "metadata": {
        "id": "hpm_J5aJQDkN"
      },
      "execution_count": null,
      "outputs": []
    },
    {
      "cell_type": "markdown",
      "source": [
        "# **Debug Exercise**"
      ],
      "metadata": {
        "id": "s_hp_TqY7K1U"
      }
    },
    {
      "cell_type": "markdown",
      "source": [
        "Resources you can go back to:\n",
        "- pythontutor.com\n",
        "- w3schools.com/python/"
      ],
      "metadata": {
        "id": "GJSWwpI3NDqP"
      }
    }
  ]
}